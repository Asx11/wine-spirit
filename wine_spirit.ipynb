{
 "cells": [
  {
   "cell_type": "markdown",
   "id": "db0da32f",
   "metadata": {},
   "source": [
    "# Wine Spirit Project"
   ]
  },
  {
   "cell_type": "code",
   "execution_count": null,
   "id": "d499b4a4",
   "metadata": {},
   "outputs": [],
   "source": [
    "import pandas as pd\n",
    "import sqlite3 as sql\n",
    "import matplotlib.pyplot as plt\n",
    "import seaborn as sns\n",
    "import csv\n",
    "import numpy as np\n",
    "from collections import Counter"
   ]
  },
  {
   "cell_type": "markdown",
   "id": "70f0ba59",
   "metadata": {},
   "source": [
    "### Create Database \n",
    "1.create a database and connect to it\n",
    "\n",
    "2.extract a set of customer supplied xlsx files\n",
    "\n",
    "3.they saved in sql database"
   ]
  },
  {
   "cell_type": "code",
   "execution_count": null,
   "id": "7df2225a",
   "metadata": {},
   "outputs": [],
   "source": [
    "connection = sql.connect('winespiritprojet.db')\n",
    "curs = connection.cursor()"
   ]
  },
  {
   "cell_type": "code",
   "execution_count": null,
   "id": "fb2390c1",
   "metadata": {},
   "outputs": [],
   "source": [
    "ERP_df = pd.read_excel(r'E:\\projet_wine_spirit\\erp.xlsx') \n",
    "liaison_df = pd.read_excel(r'E:\\projet_wine_spirit\\liaison.xlsx')\n",
    "web_df = pd.read_excel(r'E:\\projet_wine_spirit\\web.xlsx')"
   ]
  },
  {
   "cell_type": "code",
   "execution_count": null,
   "id": "59313e43",
   "metadata": {},
   "outputs": [],
   "source": [
    "ERP_df.to_sql('winespiritprojet', connection, if_exists = 'replace', index = False)\n",
    "liaison_df.to_sql('winespiritprojet', connection, if_exists = 'replace', index = False)\n",
    "web_df.to_sql('winespiritprojet', connection, if_exists = 'replace', index = False)"
   ]
  },
  {
   "cell_type": "code",
   "execution_count": null,
   "id": "2fe54944",
   "metadata": {},
   "outputs": [],
   "source": [
    "connection.close()"
   ]
  },
  {
   "cell_type": "markdown",
   "id": "f1568787",
   "metadata": {},
   "source": [
    "### Analysis\n",
    "\n",
    "we will prepare the data in order to achieve what is requested by the customer see:\n",
    "\n",
    "-> the calculation of turnover by product and the total turnover achieved.\n",
    "\n",
    "-> a graphic presentation of the outliers concerning the prices of the products.\n",
    "\n",
    "-> detect any input errors.\n",
    "\n",
    "for that we will proceed to a data cleaning, and join files"
   ]
  },
  {
   "cell_type": "markdown",
   "id": "09e9ccda",
   "metadata": {},
   "source": [
    "###### 1.Exploratory data analysis"
   ]
  },
  {
   "cell_type": "markdown",
   "id": "9c0921b5",
   "metadata": {},
   "source": [
    "###### A. le fichier Web"
   ]
  },
  {
   "cell_type": "code",
   "execution_count": null,
   "id": "b7046a84",
   "metadata": {
    "scrolled": true
   },
   "outputs": [],
   "source": [
    "web_df.info()"
   ]
  },
  {
   "cell_type": "markdown",
   "id": "d1016409",
   "metadata": {},
   "source": [
    "-> we see that there are several completely empty columns, an inconsistency of the data \"post_content\", \"post_password\", \"post_content_filtred\", \"tax_class\"\n"
   ]
  },
  {
   "cell_type": "code",
   "execution_count": null,
   "id": "e0edaa5e",
   "metadata": {},
   "outputs": [],
   "source": [
    "web_df_cln = web_df.drop(columns=['post_content','post_password','post_content_filtered','tax_class'])"
   ]
  },
  {
   "cell_type": "code",
   "execution_count": null,
   "id": "9c64e714",
   "metadata": {},
   "outputs": [],
   "source": [
    "web_df_cln.describe()"
   ]
  },
  {
   "cell_type": "markdown",
   "id": "27c11a4d",
   "metadata": {},
   "source": [
    "-> we see that several columns have only zero values (min, max, mean, std) \"virtual\",\"downloadable\",\"rating_count\",\"average_rating\",\"post_parent\",\"menu_order\",\"comment_count\""
   ]
  },
  {
   "cell_type": "code",
   "execution_count": null,
   "id": "67fcdfc2",
   "metadata": {},
   "outputs": [],
   "source": [
    "web_df_cln = web_df_cln.drop(columns=['virtual','downloadable','rating_count','average_rating','post_parent','menu_order','comment_count'])"
   ]
  },
  {
   "cell_type": "code",
   "execution_count": null,
   "id": "76220af7",
   "metadata": {},
   "outputs": [],
   "source": [
    "web_df_cln"
   ]
  },
  {
   "cell_type": "code",
   "execution_count": null,
   "id": "8ef7a631",
   "metadata": {},
   "outputs": [],
   "source": [
    "web_df_cln['post_mime_type'].value_counts()"
   ]
  },
  {
   "cell_type": "code",
   "execution_count": null,
   "id": "48295b2b",
   "metadata": {},
   "outputs": [],
   "source": [
    "web_df_cln['ping_status'].value_counts()"
   ]
  },
  {
   "cell_type": "code",
   "execution_count": null,
   "id": "2855979b",
   "metadata": {},
   "outputs": [],
   "source": [
    "web_df_cln['comment_status'].value_counts()"
   ]
  },
  {
   "cell_type": "code",
   "execution_count": null,
   "id": "ddd2b4f6",
   "metadata": {},
   "outputs": [],
   "source": [
    "web_df_cln['post_status'].value_counts()"
   ]
  },
  {
   "cell_type": "code",
   "execution_count": null,
   "id": "da01e9ff",
   "metadata": {},
   "outputs": [],
   "source": [
    "web_df_cln['tax_status'].value_counts()"
   ]
  },
  {
   "cell_type": "code",
   "execution_count": null,
   "id": "82d722a5",
   "metadata": {},
   "outputs": [],
   "source": [
    "web_df_cln['comment_count'].value_counts()"
   ]
  },
  {
   "cell_type": "markdown",
   "id": "19fb3e7a",
   "metadata": {},
   "source": [
    "-> we see that some columns contain a single value and which are not relevant for our objective, so we will discard them\n",
    "\n",
    "-> we will keep a single column for the date of the post 'post_modified_gmt'"
   ]
  },
  {
   "cell_type": "code",
   "execution_count": null,
   "id": "5ace6a0a",
   "metadata": {},
   "outputs": [],
   "source": [
    "web_df_cln = web_df_cln.drop(columns = ['post_mime_type','post_modified','tax_status','post_status','comment_status','ping_status','post_date'])"
   ]
  },
  {
   "cell_type": "code",
   "execution_count": null,
   "id": "8acf6c9c",
   "metadata": {},
   "outputs": [],
   "source": [
    "web_df_cln"
   ]
  },
  {
   "cell_type": "code",
   "execution_count": null,
   "id": "40cbd3a7",
   "metadata": {},
   "outputs": [],
   "source": [
    "# je vérifie les doublons au niveau de la variable cible \"sku\"\n",
    "web_df_cln.sku.duplicated().sum()"
   ]
  },
  {
   "cell_type": "code",
   "execution_count": null,
   "id": "0607af9c",
   "metadata": {},
   "outputs": [],
   "source": [
    "# j'enlève les doublons à partir de la colonne \"sku\"\n",
    "web_df_cln.drop_duplicates(subset = ['sku'], ignore_index = True, inplace = True)"
   ]
  },
  {
   "cell_type": "markdown",
   "id": "96c35097",
   "metadata": {},
   "source": [
    "###### B.le fichier liaison"
   ]
  },
  {
   "cell_type": "code",
   "execution_count": null,
   "id": "dd07011e",
   "metadata": {},
   "outputs": [],
   "source": [
    "liaison_df.info()"
   ]
  },
  {
   "cell_type": "markdown",
   "id": "82fbebff",
   "metadata": {},
   "source": [
    "ce fichier contient 825 lignes au totale, on constat que la colonne id_web a moins de lignes que la colonne product_id\n",
    "\n",
    "ce fichier contient 825 lignes et le nombres de lignes par colonne et coherant "
   ]
  },
  {
   "cell_type": "code",
   "execution_count": null,
   "id": "1260c8bf",
   "metadata": {},
   "outputs": [],
   "source": [
    "liaison_df"
   ]
  },
  {
   "cell_type": "code",
   "execution_count": null,
   "id": "caafc768",
   "metadata": {},
   "outputs": [],
   "source": [
    "liaison_df.isna().sum().sum() "
   ]
  },
  {
   "cell_type": "code",
   "execution_count": null,
   "id": "b1a600b1",
   "metadata": {},
   "outputs": [],
   "source": [
    "liaison_df_cln = liaison_df.dropna().reset_index(drop = True)"
   ]
  },
  {
   "cell_type": "code",
   "execution_count": null,
   "id": "8c32c1eb",
   "metadata": {},
   "outputs": [],
   "source": [
    "liaison_df_cln.product_id.duplicated().sum()"
   ]
  },
  {
   "cell_type": "markdown",
   "id": "2dda57f2",
   "metadata": {},
   "source": [
    "###### C.le fichier ERP"
   ]
  },
  {
   "cell_type": "code",
   "execution_count": null,
   "id": "0a581863",
   "metadata": {},
   "outputs": [],
   "source": [
    "ERP_df.info()"
   ]
  },
  {
   "cell_type": "markdown",
   "id": "efcd3690",
   "metadata": {},
   "source": [
    "###### 3.fusion des différents fichiers"
   ]
  },
  {
   "cell_type": "code",
   "execution_count": null,
   "id": "f02eb958",
   "metadata": {},
   "outputs": [],
   "source": [
    "fusion = web_df_cln.merge(liaison_df_cln, how='left', left_on = 'sku', right_on='id_web' )"
   ]
  },
  {
   "cell_type": "code",
   "execution_count": null,
   "id": "a950b3fe",
   "metadata": {},
   "outputs": [],
   "source": [
    "fusion"
   ]
  },
  {
   "cell_type": "code",
   "execution_count": null,
   "id": "1e5901e5",
   "metadata": {},
   "outputs": [],
   "source": [
    "fusion_all = ERP_df.merge(fusion, how='left', left_on = 'product_id', right_on='product_id' )"
   ]
  },
  {
   "cell_type": "raw",
   "id": "1d77ce8c",
   "metadata": {},
   "source": [
    "fusion_all['price'].std()\n",
    "fusion_all['price'].mean()"
   ]
  },
  {
   "cell_type": "code",
   "execution_count": null,
   "id": "587e83de",
   "metadata": {},
   "outputs": [],
   "source": [
    "fusion_all.sort_values('onsale_web', ascending = False, inplace = True, ignore_index = True)"
   ]
  },
  {
   "cell_type": "code",
   "execution_count": null,
   "id": "35cf4891",
   "metadata": {},
   "outputs": [],
   "source": [
    "fusion_all"
   ]
  },
  {
   "cell_type": "code",
   "execution_count": null,
   "id": "8dce1375",
   "metadata": {},
   "outputs": [],
   "source": [
    "fusion_na = fusion_all[fusion_all[\"sku\"].isna()]"
   ]
  },
  {
   "cell_type": "code",
   "execution_count": null,
   "id": "e6dae399",
   "metadata": {
    "scrolled": false
   },
   "outputs": [],
   "source": [
    "fusion_na"
   ]
  },
  {
   "cell_type": "code",
   "execution_count": null,
   "id": "fffe8731",
   "metadata": {},
   "outputs": [],
   "source": [
    "df_cln = fusion_all.dropna().reset_index(drop = True)"
   ]
  },
  {
   "cell_type": "markdown",
   "id": "b2bc66bd",
   "metadata": {},
   "source": [
    "###### 4.choix de variables pertinentes."
   ]
  },
  {
   "cell_type": "code",
   "execution_count": null,
   "id": "150a7c0e",
   "metadata": {},
   "outputs": [],
   "source": [
    "df_cln.info()"
   ]
  },
  {
   "cell_type": "code",
   "execution_count": null,
   "id": "e6abe706",
   "metadata": {
    "scrolled": true
   },
   "outputs": [],
   "source": [
    "df_cln = df_cln.drop(columns=['id_web','post_type','guid','post_modified_gmt','post_modified','ping_status','comment_status','post_name','post_status','post_date'])"
   ]
  },
  {
   "cell_type": "markdown",
   "id": "9f453c2d",
   "metadata": {},
   "source": [
    "###### 5.visualisation graphique "
   ]
  },
  {
   "cell_type": "code",
   "execution_count": null,
   "id": "737c87b6",
   "metadata": {},
   "outputs": [],
   "source": [
    "plt.figure(figsize=(15, 6))\n",
    "sns.distplot(df_cln['price'], bins = 120, hist_kws = {'edgecolor':'black'})"
   ]
  },
  {
   "cell_type": "code",
   "execution_count": null,
   "id": "48070fb0",
   "metadata": {},
   "outputs": [],
   "source": [
    "plt.figure(figsize = (15, 8))\n",
    "sns.boxplot(x = 'price',  data = df_cln)\n",
    "#sns.swarmplot(x = 'total_sales', y = 'price', data = df_cln, color = 'black')"
   ]
  },
  {
   "cell_type": "code",
   "execution_count": null,
   "id": "53e13071",
   "metadata": {},
   "outputs": [],
   "source": [
    "df_cln['ca_product'] = (df_cln['price'])*(df_cln['total_sales'])"
   ]
  },
  {
   "cell_type": "code",
   "execution_count": null,
   "id": "9bab196e",
   "metadata": {},
   "outputs": [],
   "source": [
    "df_cln"
   ]
  },
  {
   "cell_type": "code",
   "execution_count": null,
   "id": "0dbef636",
   "metadata": {},
   "outputs": [],
   "source": [
    "df_cln.price.mean()\n",
    "df_cln.price.std()"
   ]
  },
  {
   "cell_type": "code",
   "execution_count": null,
   "id": "ce46f92e",
   "metadata": {},
   "outputs": [],
   "source": [
    "df_cln['zscore'] = (df_cln.price - df_cln.price.mean())/df_cln.price.std(ddof=0)"
   ]
  },
  {
   "cell_type": "code",
   "execution_count": null,
   "id": "7615064c",
   "metadata": {},
   "outputs": [],
   "source": [
    "df_cln"
   ]
  },
  {
   "cell_type": "code",
   "execution_count": null,
   "id": "1855230c",
   "metadata": {},
   "outputs": [],
   "source": [
    "outlier = df_cln[df_cln['zscore'] >= 2] \n",
    "outlier.sort_values('price', ascending = True, inplace = True, ignore_index = True)"
   ]
  },
  {
   "cell_type": "code",
   "execution_count": null,
   "id": "5976a071",
   "metadata": {},
   "outputs": [],
   "source": [
    "outlier"
   ]
  },
  {
   "cell_type": "code",
   "execution_count": null,
   "id": "5a1f19a1",
   "metadata": {},
   "outputs": [],
   "source": [
    "q1 = df_cln.price.quantile(0.25)\n",
    "q2 = df_cln.price.quantile(0.5)\n",
    "q3 = df_cln.price.quantile(0.75)\n",
    "\n",
    "iqr = q3 - q1"
   ]
  },
  {
   "cell_type": "code",
   "execution_count": null,
   "id": "99faf6e3",
   "metadata": {},
   "outputs": [],
   "source": [
    "iqr"
   ]
  },
  {
   "cell_type": "code",
   "execution_count": null,
   "id": "8f7897c8",
   "metadata": {},
   "outputs": [],
   "source": [
    "lower_bound = q1 -(1.5 * iqr) \n",
    "upper_bound = q3 +(1.5 * iqr)"
   ]
  },
  {
   "cell_type": "code",
   "execution_count": null,
   "id": "e74e52ad",
   "metadata": {},
   "outputs": [],
   "source": [
    "upper_bound"
   ]
  },
  {
   "cell_type": "code",
   "execution_count": null,
   "id": "af357a1d",
   "metadata": {},
   "outputs": [],
   "source": [
    "x = df_cln['price']\n",
    "y = df_cln['total_sales']\n",
    "z=df_cln['zscore']\n",
    "z=z.astype(int)\n",
    "\n",
    "plt.figure(figsize=(17, 6))\n",
    "plt.scatter(x, y, c=z)\n",
    "plt.colorbar(ticks=list(z.unique()))\n",
    "plt.show()"
   ]
  },
  {
   "cell_type": "code",
   "execution_count": null,
   "id": "a6f72685",
   "metadata": {},
   "outputs": [],
   "source": [
    "x = df_cln['price']\n",
    "y = df_cln['total_sales']\n",
    "z=df_cln['total_sales']\n",
    "plt.figure(figsize=(17, 8))\n",
    "plt.scatter(x[z ==0], y[z==0],c = 'red', alpha=0.5)\n",
    "plt.scatter(x[z >0], y[z >0],c = 'green', alpha=0.5)"
   ]
  },
  {
   "cell_type": "code",
   "execution_count": null,
   "id": "f0de384a",
   "metadata": {},
   "outputs": [],
   "source": []
  }
 ],
 "metadata": {
  "kernelspec": {
   "display_name": "Python 3",
   "language": "python",
   "name": "python3"
  },
  "language_info": {
   "codemirror_mode": {
    "name": "ipython",
    "version": 3
   },
   "file_extension": ".py",
   "mimetype": "text/x-python",
   "name": "python",
   "nbconvert_exporter": "python",
   "pygments_lexer": "ipython3",
   "version": "3.8.8"
  }
 },
 "nbformat": 4,
 "nbformat_minor": 5
}
